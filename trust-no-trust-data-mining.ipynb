{
 "cells": [
  {
   "cell_type": "markdown",
   "id": "06e78533",
   "metadata": {
    "papermill": {
     "duration": 0.012173,
     "end_time": "2023-04-03T10:39:18.626817",
     "exception": false,
     "start_time": "2023-04-03T10:39:18.614644",
     "status": "completed"
    },
    "tags": []
   },
   "source": [
    "# Data Identification"
   ]
  },
  {
   "cell_type": "code",
   "execution_count": 1,
   "id": "f64d731f",
   "metadata": {
    "_cell_guid": "b1076dfc-b9ad-4769-8c92-a6c4dae69d19",
    "_uuid": "8f2839f25d086af736a60e9eeb907d3b93b6e0e5",
    "execution": {
     "iopub.execute_input": "2023-04-03T10:39:18.649466Z",
     "iopub.status.busy": "2023-04-03T10:39:18.648586Z",
     "iopub.status.idle": "2023-04-03T10:39:18.670670Z",
     "shell.execute_reply": "2023-04-03T10:39:18.669073Z"
    },
    "papermill": {
     "duration": 0.037081,
     "end_time": "2023-04-03T10:39:18.673910",
     "exception": false,
     "start_time": "2023-04-03T10:39:18.636829",
     "status": "completed"
    },
    "tags": []
   },
   "outputs": [
    {
     "name": "stdout",
     "output_type": "stream",
     "text": [
      "/kaggle/input/customers-dataset/Customers.csv\n"
     ]
    }
   ],
   "source": [
    "import numpy as np # linear algebra\n",
    "import pandas as pd # data processing, CSV file I/O (e.g. pd.read_csv)\n",
    "\n",
    "import os\n",
    "for dirname, _, filenames in os.walk('/kaggle/input'):\n",
    "    for filename in filenames:\n",
    "        print(os.path.join(dirname, filename))"
   ]
  },
  {
   "cell_type": "code",
   "execution_count": 2,
   "id": "468cd666",
   "metadata": {
    "execution": {
     "iopub.execute_input": "2023-04-03T10:39:18.697507Z",
     "iopub.status.busy": "2023-04-03T10:39:18.696453Z",
     "iopub.status.idle": "2023-04-03T10:39:18.721160Z",
     "shell.execute_reply": "2023-04-03T10:39:18.719457Z"
    },
    "papermill": {
     "duration": 0.040115,
     "end_time": "2023-04-03T10:39:18.724270",
     "exception": false,
     "start_time": "2023-04-03T10:39:18.684155",
     "status": "completed"
    },
    "tags": []
   },
   "outputs": [],
   "source": [
    "df = pd.read_csv(\"/kaggle/input/customers-dataset/Customers.csv\")"
   ]
  },
  {
   "cell_type": "code",
   "execution_count": 3,
   "id": "473724b2",
   "metadata": {
    "execution": {
     "iopub.execute_input": "2023-04-03T10:39:18.748671Z",
     "iopub.status.busy": "2023-04-03T10:39:18.748189Z",
     "iopub.status.idle": "2023-04-03T10:39:18.789530Z",
     "shell.execute_reply": "2023-04-03T10:39:18.787666Z"
    },
    "papermill": {
     "duration": 0.05828,
     "end_time": "2023-04-03T10:39:18.792342",
     "exception": false,
     "start_time": "2023-04-03T10:39:18.734062",
     "status": "completed"
    },
    "tags": []
   },
   "outputs": [
    {
     "data": {
      "text/html": [
       "<div>\n",
       "<style scoped>\n",
       "    .dataframe tbody tr th:only-of-type {\n",
       "        vertical-align: middle;\n",
       "    }\n",
       "\n",
       "    .dataframe tbody tr th {\n",
       "        vertical-align: top;\n",
       "    }\n",
       "\n",
       "    .dataframe thead th {\n",
       "        text-align: right;\n",
       "    }\n",
       "</style>\n",
       "<table border=\"1\" class=\"dataframe\">\n",
       "  <thead>\n",
       "    <tr style=\"text-align: right;\">\n",
       "      <th></th>\n",
       "      <th>CustomerID</th>\n",
       "      <th>Gender</th>\n",
       "      <th>Age</th>\n",
       "      <th>Annual Income ($)</th>\n",
       "      <th>Spending Score (1-100)</th>\n",
       "      <th>Profession</th>\n",
       "      <th>Work Experience</th>\n",
       "      <th>Family Size</th>\n",
       "    </tr>\n",
       "  </thead>\n",
       "  <tbody>\n",
       "    <tr>\n",
       "      <th>0</th>\n",
       "      <td>1</td>\n",
       "      <td>Male</td>\n",
       "      <td>19</td>\n",
       "      <td>15000</td>\n",
       "      <td>39</td>\n",
       "      <td>Healthcare</td>\n",
       "      <td>1</td>\n",
       "      <td>4</td>\n",
       "    </tr>\n",
       "    <tr>\n",
       "      <th>1</th>\n",
       "      <td>2</td>\n",
       "      <td>Male</td>\n",
       "      <td>21</td>\n",
       "      <td>35000</td>\n",
       "      <td>81</td>\n",
       "      <td>Engineer</td>\n",
       "      <td>3</td>\n",
       "      <td>3</td>\n",
       "    </tr>\n",
       "    <tr>\n",
       "      <th>2</th>\n",
       "      <td>3</td>\n",
       "      <td>Female</td>\n",
       "      <td>20</td>\n",
       "      <td>86000</td>\n",
       "      <td>6</td>\n",
       "      <td>Engineer</td>\n",
       "      <td>1</td>\n",
       "      <td>1</td>\n",
       "    </tr>\n",
       "    <tr>\n",
       "      <th>3</th>\n",
       "      <td>4</td>\n",
       "      <td>Female</td>\n",
       "      <td>23</td>\n",
       "      <td>59000</td>\n",
       "      <td>77</td>\n",
       "      <td>Lawyer</td>\n",
       "      <td>0</td>\n",
       "      <td>2</td>\n",
       "    </tr>\n",
       "    <tr>\n",
       "      <th>4</th>\n",
       "      <td>5</td>\n",
       "      <td>Female</td>\n",
       "      <td>31</td>\n",
       "      <td>38000</td>\n",
       "      <td>40</td>\n",
       "      <td>Entertainment</td>\n",
       "      <td>2</td>\n",
       "      <td>6</td>\n",
       "    </tr>\n",
       "    <tr>\n",
       "      <th>...</th>\n",
       "      <td>...</td>\n",
       "      <td>...</td>\n",
       "      <td>...</td>\n",
       "      <td>...</td>\n",
       "      <td>...</td>\n",
       "      <td>...</td>\n",
       "      <td>...</td>\n",
       "      <td>...</td>\n",
       "    </tr>\n",
       "    <tr>\n",
       "      <th>1995</th>\n",
       "      <td>1996</td>\n",
       "      <td>Female</td>\n",
       "      <td>71</td>\n",
       "      <td>184387</td>\n",
       "      <td>40</td>\n",
       "      <td>Artist</td>\n",
       "      <td>8</td>\n",
       "      <td>7</td>\n",
       "    </tr>\n",
       "    <tr>\n",
       "      <th>1996</th>\n",
       "      <td>1997</td>\n",
       "      <td>Female</td>\n",
       "      <td>91</td>\n",
       "      <td>73158</td>\n",
       "      <td>32</td>\n",
       "      <td>Doctor</td>\n",
       "      <td>7</td>\n",
       "      <td>7</td>\n",
       "    </tr>\n",
       "    <tr>\n",
       "      <th>1997</th>\n",
       "      <td>1998</td>\n",
       "      <td>Male</td>\n",
       "      <td>87</td>\n",
       "      <td>90961</td>\n",
       "      <td>14</td>\n",
       "      <td>Healthcare</td>\n",
       "      <td>9</td>\n",
       "      <td>2</td>\n",
       "    </tr>\n",
       "    <tr>\n",
       "      <th>1998</th>\n",
       "      <td>1999</td>\n",
       "      <td>Male</td>\n",
       "      <td>77</td>\n",
       "      <td>182109</td>\n",
       "      <td>4</td>\n",
       "      <td>Executive</td>\n",
       "      <td>7</td>\n",
       "      <td>2</td>\n",
       "    </tr>\n",
       "    <tr>\n",
       "      <th>1999</th>\n",
       "      <td>2000</td>\n",
       "      <td>Male</td>\n",
       "      <td>90</td>\n",
       "      <td>110610</td>\n",
       "      <td>52</td>\n",
       "      <td>Entertainment</td>\n",
       "      <td>5</td>\n",
       "      <td>2</td>\n",
       "    </tr>\n",
       "  </tbody>\n",
       "</table>\n",
       "<p>2000 rows × 8 columns</p>\n",
       "</div>"
      ],
      "text/plain": [
       "      CustomerID  Gender  Age  Annual Income ($)  Spending Score (1-100)  \\\n",
       "0              1    Male   19              15000                      39   \n",
       "1              2    Male   21              35000                      81   \n",
       "2              3  Female   20              86000                       6   \n",
       "3              4  Female   23              59000                      77   \n",
       "4              5  Female   31              38000                      40   \n",
       "...          ...     ...  ...                ...                     ...   \n",
       "1995        1996  Female   71             184387                      40   \n",
       "1996        1997  Female   91              73158                      32   \n",
       "1997        1998    Male   87              90961                      14   \n",
       "1998        1999    Male   77             182109                       4   \n",
       "1999        2000    Male   90             110610                      52   \n",
       "\n",
       "         Profession  Work Experience  Family Size  \n",
       "0        Healthcare                1            4  \n",
       "1          Engineer                3            3  \n",
       "2          Engineer                1            1  \n",
       "3            Lawyer                0            2  \n",
       "4     Entertainment                2            6  \n",
       "...             ...              ...          ...  \n",
       "1995         Artist                8            7  \n",
       "1996         Doctor                7            7  \n",
       "1997     Healthcare                9            2  \n",
       "1998      Executive                7            2  \n",
       "1999  Entertainment                5            2  \n",
       "\n",
       "[2000 rows x 8 columns]"
      ]
     },
     "execution_count": 3,
     "metadata": {},
     "output_type": "execute_result"
    }
   ],
   "source": [
    "df"
   ]
  },
  {
   "cell_type": "code",
   "execution_count": 4,
   "id": "5f87ebb8",
   "metadata": {
    "execution": {
     "iopub.execute_input": "2023-04-03T10:39:18.814652Z",
     "iopub.status.busy": "2023-04-03T10:39:18.814193Z",
     "iopub.status.idle": "2023-04-03T10:39:18.839359Z",
     "shell.execute_reply": "2023-04-03T10:39:18.837180Z"
    },
    "papermill": {
     "duration": 0.039395,
     "end_time": "2023-04-03T10:39:18.841979",
     "exception": false,
     "start_time": "2023-04-03T10:39:18.802584",
     "status": "completed"
    },
    "tags": []
   },
   "outputs": [
    {
     "name": "stdout",
     "output_type": "stream",
     "text": [
      "<class 'pandas.core.frame.DataFrame'>\n",
      "RangeIndex: 2000 entries, 0 to 1999\n",
      "Data columns (total 8 columns):\n",
      " #   Column                  Non-Null Count  Dtype \n",
      "---  ------                  --------------  ----- \n",
      " 0   CustomerID              2000 non-null   int64 \n",
      " 1   Gender                  2000 non-null   object\n",
      " 2   Age                     2000 non-null   int64 \n",
      " 3   Annual Income ($)       2000 non-null   int64 \n",
      " 4   Spending Score (1-100)  2000 non-null   int64 \n",
      " 5   Profession              1965 non-null   object\n",
      " 6   Work Experience         2000 non-null   int64 \n",
      " 7   Family Size             2000 non-null   int64 \n",
      "dtypes: int64(6), object(2)\n",
      "memory usage: 125.1+ KB\n"
     ]
    }
   ],
   "source": [
    "df.info()"
   ]
  },
  {
   "cell_type": "code",
   "execution_count": 5,
   "id": "edf4cbbd",
   "metadata": {
    "execution": {
     "iopub.execute_input": "2023-04-03T10:39:18.865941Z",
     "iopub.status.busy": "2023-04-03T10:39:18.865486Z",
     "iopub.status.idle": "2023-04-03T10:39:18.876965Z",
     "shell.execute_reply": "2023-04-03T10:39:18.875550Z"
    },
    "papermill": {
     "duration": 0.026692,
     "end_time": "2023-04-03T10:39:18.879672",
     "exception": false,
     "start_time": "2023-04-03T10:39:18.852980",
     "status": "completed"
    },
    "tags": []
   },
   "outputs": [
    {
     "data": {
      "text/plain": [
       "CustomerID                 0\n",
       "Gender                     0\n",
       "Age                        0\n",
       "Annual Income ($)          0\n",
       "Spending Score (1-100)     0\n",
       "Profession                35\n",
       "Work Experience            0\n",
       "Family Size                0\n",
       "dtype: int64"
      ]
     },
     "execution_count": 5,
     "metadata": {},
     "output_type": "execute_result"
    }
   ],
   "source": [
    "df.isna().sum()"
   ]
  },
  {
   "cell_type": "markdown",
   "id": "f50e2834",
   "metadata": {
    "papermill": {
     "duration": 0.009997,
     "end_time": "2023-04-03T10:39:18.900723",
     "exception": false,
     "start_time": "2023-04-03T10:39:18.890726",
     "status": "completed"
    },
    "tags": []
   },
   "source": [
    "There are 35 nan values in Profession column. "
   ]
  },
  {
   "cell_type": "code",
   "execution_count": 6,
   "id": "c1ca676d",
   "metadata": {
    "execution": {
     "iopub.execute_input": "2023-04-03T10:39:18.923817Z",
     "iopub.status.busy": "2023-04-03T10:39:18.923009Z",
     "iopub.status.idle": "2023-04-03T10:39:18.933148Z",
     "shell.execute_reply": "2023-04-03T10:39:18.931658Z"
    },
    "papermill": {
     "duration": 0.025395,
     "end_time": "2023-04-03T10:39:18.936411",
     "exception": false,
     "start_time": "2023-04-03T10:39:18.911016",
     "status": "completed"
    },
    "tags": []
   },
   "outputs": [
    {
     "data": {
      "text/plain": [
       "array(['Male', 'Female'], dtype=object)"
      ]
     },
     "execution_count": 6,
     "metadata": {},
     "output_type": "execute_result"
    }
   ],
   "source": [
    "df.Gender.unique()"
   ]
  },
  {
   "cell_type": "code",
   "execution_count": 7,
   "id": "090c6fe8",
   "metadata": {
    "execution": {
     "iopub.execute_input": "2023-04-03T10:39:18.959691Z",
     "iopub.status.busy": "2023-04-03T10:39:18.959272Z",
     "iopub.status.idle": "2023-04-03T10:39:18.968284Z",
     "shell.execute_reply": "2023-04-03T10:39:18.966906Z"
    },
    "papermill": {
     "duration": 0.023509,
     "end_time": "2023-04-03T10:39:18.970795",
     "exception": false,
     "start_time": "2023-04-03T10:39:18.947286",
     "status": "completed"
    },
    "tags": []
   },
   "outputs": [
    {
     "data": {
      "text/plain": [
       "array(['Healthcare', 'Engineer', 'Lawyer', 'Entertainment', 'Artist',\n",
       "       'Executive', 'Doctor', 'Homemaker', 'Marketing', nan], dtype=object)"
      ]
     },
     "execution_count": 7,
     "metadata": {},
     "output_type": "execute_result"
    }
   ],
   "source": [
    "df.Profession.unique()"
   ]
  },
  {
   "cell_type": "markdown",
   "id": "680d7c06",
   "metadata": {
    "papermill": {
     "duration": 0.010768,
     "end_time": "2023-04-03T10:39:18.993153",
     "exception": false,
     "start_time": "2023-04-03T10:39:18.982385",
     "status": "completed"
    },
    "tags": []
   },
   "source": [
    "Maybe I'll fill nan values in Profession column based on their annual income. Thats why I must analyze annual income average from all of role. "
   ]
  },
  {
   "cell_type": "markdown",
   "id": "53d8f377",
   "metadata": {
    "papermill": {
     "duration": 0.010762,
     "end_time": "2023-04-03T10:39:19.014619",
     "exception": false,
     "start_time": "2023-04-03T10:39:19.003857",
     "status": "completed"
    },
    "tags": []
   },
   "source": [
    "# Data Cleaning"
   ]
  },
  {
   "cell_type": "code",
   "execution_count": 8,
   "id": "e843b2af",
   "metadata": {
    "execution": {
     "iopub.execute_input": "2023-04-03T10:39:19.037936Z",
     "iopub.status.busy": "2023-04-03T10:39:19.037524Z",
     "iopub.status.idle": "2023-04-03T10:39:19.063212Z",
     "shell.execute_reply": "2023-04-03T10:39:19.060951Z"
    },
    "papermill": {
     "duration": 0.040862,
     "end_time": "2023-04-03T10:39:19.066184",
     "exception": false,
     "start_time": "2023-04-03T10:39:19.025322",
     "status": "completed"
    },
    "tags": []
   },
   "outputs": [
    {
     "data": {
      "text/html": [
       "<div>\n",
       "<style scoped>\n",
       "    .dataframe tbody tr th:only-of-type {\n",
       "        vertical-align: middle;\n",
       "    }\n",
       "\n",
       "    .dataframe tbody tr th {\n",
       "        vertical-align: top;\n",
       "    }\n",
       "\n",
       "    .dataframe thead th {\n",
       "        text-align: right;\n",
       "    }\n",
       "</style>\n",
       "<table border=\"1\" class=\"dataframe\">\n",
       "  <thead>\n",
       "    <tr style=\"text-align: right;\">\n",
       "      <th></th>\n",
       "      <th>CustomerID</th>\n",
       "      <th>Gender</th>\n",
       "      <th>Age</th>\n",
       "      <th>Annual Income ($)</th>\n",
       "      <th>Spending Score (1-100)</th>\n",
       "      <th>Profession</th>\n",
       "      <th>Work Experience</th>\n",
       "      <th>Family Size</th>\n",
       "    </tr>\n",
       "  </thead>\n",
       "  <tbody>\n",
       "    <tr>\n",
       "      <th>79</th>\n",
       "      <td>80</td>\n",
       "      <td>Female</td>\n",
       "      <td>49</td>\n",
       "      <td>98000</td>\n",
       "      <td>42</td>\n",
       "      <td>NaN</td>\n",
       "      <td>1</td>\n",
       "      <td>1</td>\n",
       "    </tr>\n",
       "    <tr>\n",
       "      <th>118</th>\n",
       "      <td>119</td>\n",
       "      <td>Female</td>\n",
       "      <td>51</td>\n",
       "      <td>84000</td>\n",
       "      <td>43</td>\n",
       "      <td>NaN</td>\n",
       "      <td>2</td>\n",
       "      <td>7</td>\n",
       "    </tr>\n",
       "    <tr>\n",
       "      <th>219</th>\n",
       "      <td>220</td>\n",
       "      <td>Female</td>\n",
       "      <td>59</td>\n",
       "      <td>76000</td>\n",
       "      <td>61</td>\n",
       "      <td>NaN</td>\n",
       "      <td>9</td>\n",
       "      <td>1</td>\n",
       "    </tr>\n",
       "    <tr>\n",
       "      <th>237</th>\n",
       "      <td>238</td>\n",
       "      <td>Male</td>\n",
       "      <td>95</td>\n",
       "      <td>36000</td>\n",
       "      <td>35</td>\n",
       "      <td>NaN</td>\n",
       "      <td>0</td>\n",
       "      <td>4</td>\n",
       "    </tr>\n",
       "    <tr>\n",
       "      <th>437</th>\n",
       "      <td>438</td>\n",
       "      <td>Male</td>\n",
       "      <td>76</td>\n",
       "      <td>136259</td>\n",
       "      <td>14</td>\n",
       "      <td>NaN</td>\n",
       "      <td>0</td>\n",
       "      <td>7</td>\n",
       "    </tr>\n",
       "    <tr>\n",
       "      <th>440</th>\n",
       "      <td>441</td>\n",
       "      <td>Female</td>\n",
       "      <td>0</td>\n",
       "      <td>57373</td>\n",
       "      <td>29</td>\n",
       "      <td>NaN</td>\n",
       "      <td>0</td>\n",
       "      <td>7</td>\n",
       "    </tr>\n",
       "    <tr>\n",
       "      <th>498</th>\n",
       "      <td>499</td>\n",
       "      <td>Male</td>\n",
       "      <td>95</td>\n",
       "      <td>121725</td>\n",
       "      <td>3</td>\n",
       "      <td>NaN</td>\n",
       "      <td>12</td>\n",
       "      <td>3</td>\n",
       "    </tr>\n",
       "    <tr>\n",
       "      <th>545</th>\n",
       "      <td>546</td>\n",
       "      <td>Female</td>\n",
       "      <td>89</td>\n",
       "      <td>107359</td>\n",
       "      <td>26</td>\n",
       "      <td>NaN</td>\n",
       "      <td>10</td>\n",
       "      <td>6</td>\n",
       "    </tr>\n",
       "    <tr>\n",
       "      <th>601</th>\n",
       "      <td>602</td>\n",
       "      <td>Male</td>\n",
       "      <td>61</td>\n",
       "      <td>126370</td>\n",
       "      <td>20</td>\n",
       "      <td>NaN</td>\n",
       "      <td>11</td>\n",
       "      <td>4</td>\n",
       "    </tr>\n",
       "    <tr>\n",
       "      <th>641</th>\n",
       "      <td>642</td>\n",
       "      <td>Male</td>\n",
       "      <td>66</td>\n",
       "      <td>121377</td>\n",
       "      <td>19</td>\n",
       "      <td>NaN</td>\n",
       "      <td>7</td>\n",
       "      <td>7</td>\n",
       "    </tr>\n",
       "    <tr>\n",
       "      <th>665</th>\n",
       "      <td>666</td>\n",
       "      <td>Male</td>\n",
       "      <td>28</td>\n",
       "      <td>101414</td>\n",
       "      <td>64</td>\n",
       "      <td>NaN</td>\n",
       "      <td>8</td>\n",
       "      <td>1</td>\n",
       "    </tr>\n",
       "    <tr>\n",
       "      <th>703</th>\n",
       "      <td>704</td>\n",
       "      <td>Male</td>\n",
       "      <td>22</td>\n",
       "      <td>114011</td>\n",
       "      <td>40</td>\n",
       "      <td>NaN</td>\n",
       "      <td>5</td>\n",
       "      <td>7</td>\n",
       "    </tr>\n",
       "    <tr>\n",
       "      <th>801</th>\n",
       "      <td>802</td>\n",
       "      <td>Male</td>\n",
       "      <td>81</td>\n",
       "      <td>148208</td>\n",
       "      <td>36</td>\n",
       "      <td>NaN</td>\n",
       "      <td>5</td>\n",
       "      <td>7</td>\n",
       "    </tr>\n",
       "    <tr>\n",
       "      <th>817</th>\n",
       "      <td>818</td>\n",
       "      <td>Female</td>\n",
       "      <td>91</td>\n",
       "      <td>154456</td>\n",
       "      <td>71</td>\n",
       "      <td>NaN</td>\n",
       "      <td>0</td>\n",
       "      <td>7</td>\n",
       "    </tr>\n",
       "    <tr>\n",
       "      <th>850</th>\n",
       "      <td>851</td>\n",
       "      <td>Male</td>\n",
       "      <td>69</td>\n",
       "      <td>186655</td>\n",
       "      <td>32</td>\n",
       "      <td>NaN</td>\n",
       "      <td>7</td>\n",
       "      <td>2</td>\n",
       "    </tr>\n",
       "    <tr>\n",
       "      <th>903</th>\n",
       "      <td>904</td>\n",
       "      <td>Female</td>\n",
       "      <td>15</td>\n",
       "      <td>174501</td>\n",
       "      <td>37</td>\n",
       "      <td>NaN</td>\n",
       "      <td>9</td>\n",
       "      <td>7</td>\n",
       "    </tr>\n",
       "    <tr>\n",
       "      <th>927</th>\n",
       "      <td>928</td>\n",
       "      <td>Male</td>\n",
       "      <td>25</td>\n",
       "      <td>81367</td>\n",
       "      <td>87</td>\n",
       "      <td>NaN</td>\n",
       "      <td>0</td>\n",
       "      <td>3</td>\n",
       "    </tr>\n",
       "    <tr>\n",
       "      <th>1009</th>\n",
       "      <td>1010</td>\n",
       "      <td>Male</td>\n",
       "      <td>69</td>\n",
       "      <td>61637</td>\n",
       "      <td>67</td>\n",
       "      <td>NaN</td>\n",
       "      <td>0</td>\n",
       "      <td>5</td>\n",
       "    </tr>\n",
       "    <tr>\n",
       "      <th>1067</th>\n",
       "      <td>1068</td>\n",
       "      <td>Female</td>\n",
       "      <td>30</td>\n",
       "      <td>78821</td>\n",
       "      <td>46</td>\n",
       "      <td>NaN</td>\n",
       "      <td>1</td>\n",
       "      <td>4</td>\n",
       "    </tr>\n",
       "    <tr>\n",
       "      <th>1088</th>\n",
       "      <td>1089</td>\n",
       "      <td>Female</td>\n",
       "      <td>10</td>\n",
       "      <td>162076</td>\n",
       "      <td>78</td>\n",
       "      <td>NaN</td>\n",
       "      <td>0</td>\n",
       "      <td>3</td>\n",
       "    </tr>\n",
       "    <tr>\n",
       "      <th>1092</th>\n",
       "      <td>1093</td>\n",
       "      <td>Male</td>\n",
       "      <td>87</td>\n",
       "      <td>141383</td>\n",
       "      <td>3</td>\n",
       "      <td>NaN</td>\n",
       "      <td>7</td>\n",
       "      <td>5</td>\n",
       "    </tr>\n",
       "    <tr>\n",
       "      <th>1188</th>\n",
       "      <td>1189</td>\n",
       "      <td>Female</td>\n",
       "      <td>99</td>\n",
       "      <td>122548</td>\n",
       "      <td>14</td>\n",
       "      <td>NaN</td>\n",
       "      <td>2</td>\n",
       "      <td>5</td>\n",
       "    </tr>\n",
       "    <tr>\n",
       "      <th>1223</th>\n",
       "      <td>1224</td>\n",
       "      <td>Male</td>\n",
       "      <td>74</td>\n",
       "      <td>184838</td>\n",
       "      <td>18</td>\n",
       "      <td>NaN</td>\n",
       "      <td>8</td>\n",
       "      <td>5</td>\n",
       "    </tr>\n",
       "    <tr>\n",
       "      <th>1316</th>\n",
       "      <td>1317</td>\n",
       "      <td>Female</td>\n",
       "      <td>33</td>\n",
       "      <td>109396</td>\n",
       "      <td>17</td>\n",
       "      <td>NaN</td>\n",
       "      <td>1</td>\n",
       "      <td>2</td>\n",
       "    </tr>\n",
       "    <tr>\n",
       "      <th>1334</th>\n",
       "      <td>1335</td>\n",
       "      <td>Male</td>\n",
       "      <td>42</td>\n",
       "      <td>94844</td>\n",
       "      <td>64</td>\n",
       "      <td>NaN</td>\n",
       "      <td>7</td>\n",
       "      <td>6</td>\n",
       "    </tr>\n",
       "    <tr>\n",
       "      <th>1384</th>\n",
       "      <td>1385</td>\n",
       "      <td>Female</td>\n",
       "      <td>50</td>\n",
       "      <td>104467</td>\n",
       "      <td>72</td>\n",
       "      <td>NaN</td>\n",
       "      <td>5</td>\n",
       "      <td>1</td>\n",
       "    </tr>\n",
       "    <tr>\n",
       "      <th>1417</th>\n",
       "      <td>1418</td>\n",
       "      <td>Female</td>\n",
       "      <td>1</td>\n",
       "      <td>138656</td>\n",
       "      <td>27</td>\n",
       "      <td>NaN</td>\n",
       "      <td>3</td>\n",
       "      <td>4</td>\n",
       "    </tr>\n",
       "    <tr>\n",
       "      <th>1483</th>\n",
       "      <td>1484</td>\n",
       "      <td>Female</td>\n",
       "      <td>19</td>\n",
       "      <td>147052</td>\n",
       "      <td>86</td>\n",
       "      <td>NaN</td>\n",
       "      <td>9</td>\n",
       "      <td>4</td>\n",
       "    </tr>\n",
       "    <tr>\n",
       "      <th>1506</th>\n",
       "      <td>1507</td>\n",
       "      <td>Female</td>\n",
       "      <td>9</td>\n",
       "      <td>173233</td>\n",
       "      <td>18</td>\n",
       "      <td>NaN</td>\n",
       "      <td>5</td>\n",
       "      <td>1</td>\n",
       "    </tr>\n",
       "    <tr>\n",
       "      <th>1625</th>\n",
       "      <td>1626</td>\n",
       "      <td>Female</td>\n",
       "      <td>78</td>\n",
       "      <td>130706</td>\n",
       "      <td>72</td>\n",
       "      <td>NaN</td>\n",
       "      <td>3</td>\n",
       "      <td>6</td>\n",
       "    </tr>\n",
       "    <tr>\n",
       "      <th>1634</th>\n",
       "      <td>1635</td>\n",
       "      <td>Male</td>\n",
       "      <td>73</td>\n",
       "      <td>97455</td>\n",
       "      <td>55</td>\n",
       "      <td>NaN</td>\n",
       "      <td>6</td>\n",
       "      <td>4</td>\n",
       "    </tr>\n",
       "    <tr>\n",
       "      <th>1788</th>\n",
       "      <td>1789</td>\n",
       "      <td>Female</td>\n",
       "      <td>58</td>\n",
       "      <td>51416</td>\n",
       "      <td>46</td>\n",
       "      <td>NaN</td>\n",
       "      <td>7</td>\n",
       "      <td>5</td>\n",
       "    </tr>\n",
       "    <tr>\n",
       "      <th>1884</th>\n",
       "      <td>1885</td>\n",
       "      <td>Female</td>\n",
       "      <td>63</td>\n",
       "      <td>155638</td>\n",
       "      <td>81</td>\n",
       "      <td>NaN</td>\n",
       "      <td>1</td>\n",
       "      <td>4</td>\n",
       "    </tr>\n",
       "    <tr>\n",
       "      <th>1905</th>\n",
       "      <td>1906</td>\n",
       "      <td>Female</td>\n",
       "      <td>52</td>\n",
       "      <td>164038</td>\n",
       "      <td>53</td>\n",
       "      <td>NaN</td>\n",
       "      <td>5</td>\n",
       "      <td>4</td>\n",
       "    </tr>\n",
       "    <tr>\n",
       "      <th>1932</th>\n",
       "      <td>1933</td>\n",
       "      <td>Female</td>\n",
       "      <td>23</td>\n",
       "      <td>59905</td>\n",
       "      <td>79</td>\n",
       "      <td>NaN</td>\n",
       "      <td>7</td>\n",
       "      <td>5</td>\n",
       "    </tr>\n",
       "  </tbody>\n",
       "</table>\n",
       "</div>"
      ],
      "text/plain": [
       "      CustomerID  Gender  Age  Annual Income ($)  Spending Score (1-100)  \\\n",
       "79            80  Female   49              98000                      42   \n",
       "118          119  Female   51              84000                      43   \n",
       "219          220  Female   59              76000                      61   \n",
       "237          238    Male   95              36000                      35   \n",
       "437          438    Male   76             136259                      14   \n",
       "440          441  Female    0              57373                      29   \n",
       "498          499    Male   95             121725                       3   \n",
       "545          546  Female   89             107359                      26   \n",
       "601          602    Male   61             126370                      20   \n",
       "641          642    Male   66             121377                      19   \n",
       "665          666    Male   28             101414                      64   \n",
       "703          704    Male   22             114011                      40   \n",
       "801          802    Male   81             148208                      36   \n",
       "817          818  Female   91             154456                      71   \n",
       "850          851    Male   69             186655                      32   \n",
       "903          904  Female   15             174501                      37   \n",
       "927          928    Male   25              81367                      87   \n",
       "1009        1010    Male   69              61637                      67   \n",
       "1067        1068  Female   30              78821                      46   \n",
       "1088        1089  Female   10             162076                      78   \n",
       "1092        1093    Male   87             141383                       3   \n",
       "1188        1189  Female   99             122548                      14   \n",
       "1223        1224    Male   74             184838                      18   \n",
       "1316        1317  Female   33             109396                      17   \n",
       "1334        1335    Male   42              94844                      64   \n",
       "1384        1385  Female   50             104467                      72   \n",
       "1417        1418  Female    1             138656                      27   \n",
       "1483        1484  Female   19             147052                      86   \n",
       "1506        1507  Female    9             173233                      18   \n",
       "1625        1626  Female   78             130706                      72   \n",
       "1634        1635    Male   73              97455                      55   \n",
       "1788        1789  Female   58              51416                      46   \n",
       "1884        1885  Female   63             155638                      81   \n",
       "1905        1906  Female   52             164038                      53   \n",
       "1932        1933  Female   23              59905                      79   \n",
       "\n",
       "     Profession  Work Experience  Family Size  \n",
       "79          NaN                1            1  \n",
       "118         NaN                2            7  \n",
       "219         NaN                9            1  \n",
       "237         NaN                0            4  \n",
       "437         NaN                0            7  \n",
       "440         NaN                0            7  \n",
       "498         NaN               12            3  \n",
       "545         NaN               10            6  \n",
       "601         NaN               11            4  \n",
       "641         NaN                7            7  \n",
       "665         NaN                8            1  \n",
       "703         NaN                5            7  \n",
       "801         NaN                5            7  \n",
       "817         NaN                0            7  \n",
       "850         NaN                7            2  \n",
       "903         NaN                9            7  \n",
       "927         NaN                0            3  \n",
       "1009        NaN                0            5  \n",
       "1067        NaN                1            4  \n",
       "1088        NaN                0            3  \n",
       "1092        NaN                7            5  \n",
       "1188        NaN                2            5  \n",
       "1223        NaN                8            5  \n",
       "1316        NaN                1            2  \n",
       "1334        NaN                7            6  \n",
       "1384        NaN                5            1  \n",
       "1417        NaN                3            4  \n",
       "1483        NaN                9            4  \n",
       "1506        NaN                5            1  \n",
       "1625        NaN                3            6  \n",
       "1634        NaN                6            4  \n",
       "1788        NaN                7            5  \n",
       "1884        NaN                1            4  \n",
       "1905        NaN                5            4  \n",
       "1932        NaN                7            5  "
      ]
     },
     "execution_count": 8,
     "metadata": {},
     "output_type": "execute_result"
    }
   ],
   "source": [
    "df[df.isna().any(axis=1)]"
   ]
  },
  {
   "cell_type": "code",
   "execution_count": 9,
   "id": "ad47a144",
   "metadata": {
    "execution": {
     "iopub.execute_input": "2023-04-03T10:39:19.094018Z",
     "iopub.status.busy": "2023-04-03T10:39:19.093551Z",
     "iopub.status.idle": "2023-04-03T10:39:20.280547Z",
     "shell.execute_reply": "2023-04-03T10:39:20.278761Z"
    },
    "papermill": {
     "duration": 1.204289,
     "end_time": "2023-04-03T10:39:20.283861",
     "exception": false,
     "start_time": "2023-04-03T10:39:19.079572",
     "status": "completed"
    },
    "tags": []
   },
   "outputs": [],
   "source": [
    "import matplotlib.pyplot as plt\n",
    "import seaborn as sns"
   ]
  },
  {
   "cell_type": "code",
   "execution_count": 10,
   "id": "d76172a9",
   "metadata": {
    "execution": {
     "iopub.execute_input": "2023-04-03T10:39:20.308792Z",
     "iopub.status.busy": "2023-04-03T10:39:20.308338Z",
     "iopub.status.idle": "2023-04-03T10:39:20.314091Z",
     "shell.execute_reply": "2023-04-03T10:39:20.312606Z"
    },
    "papermill": {
     "duration": 0.021735,
     "end_time": "2023-04-03T10:39:20.316932",
     "exception": false,
     "start_time": "2023-04-03T10:39:20.295197",
     "status": "completed"
    },
    "tags": []
   },
   "outputs": [],
   "source": [
    "list_of_role = ['Healthcare', 'Engineer', 'Lawyer', 'Entertainment', 'Artist',\n",
    "       'Executive', 'Doctor', 'Homemaker', 'Marketing']"
   ]
  },
  {
   "cell_type": "code",
   "execution_count": 11,
   "id": "94a49ff6",
   "metadata": {
    "execution": {
     "iopub.execute_input": "2023-04-03T10:39:20.341701Z",
     "iopub.status.busy": "2023-04-03T10:39:20.341282Z",
     "iopub.status.idle": "2023-04-03T10:39:23.811455Z",
     "shell.execute_reply": "2023-04-03T10:39:23.810069Z"
    },
    "papermill": {
     "duration": 3.486544,
     "end_time": "2023-04-03T10:39:23.814571",
     "exception": false,
     "start_time": "2023-04-03T10:39:20.328027",
     "status": "completed"
    },
    "tags": []
   },
   "outputs": [
    {
     "data": {
      "image/png": "[encoded data removed]",
      "text/plain": [
       "<Figure size 1500x800 with 1 Axes>"
      ]
     },
     "metadata": {},
     "output_type": "display_data"
    },
    {
     "data": {
      "image/png": "[encoded data removed]",
      "text/plain": [
       "<Figure size 500x500 with 1 Axes>"
      ]
     },
     "metadata": {},
     "output_type": "display_data"
    },
    {
     "data": {
      "image/png": "[encoded data removed]",
      "text/plain": [
       "<Figure size 500x500 with 1 Axes>"
      ]
     },
     "metadata": {},
     "output_type": "display_data"
    },
    {
     "data": {
      "image/png": "[encoded data removed]",
      "text/plain": [
       "<Figure size 500x500 with 1 Axes>"
      ]
     },
     "metadata": {},
     "output_type": "display_data"
    },
    {
     "data": {
      "image/png": "[encoded data removed]",
      "text/plain": [
       "<Figure size 500x500 with 1 Axes>"
      ]
     },
     "metadata": {},
     "output_type": "display_data"
    },
    {
     "data": {
      "image/png": "[encoded data removed]",
      "text/plain": [
       "<Figure size 500x500 with 1 Axes>"
      ]
     },
     "metadata": {},
     "output_type": "display_data"
    },
    {
     "data": {
      "image/png": "[encoded data removed]",
      "text/plain": [
       "<Figure size 500x500 with 1 Axes>"
      ]
     },
     "metadata": {},
     "output_type": "display_data"
    },
    {
     "data": {
      "image/png": "[encoded data removed]",
      "text/plain": [
       "<Figure size 500x500 with 1 Axes>"
      ]
     },
     "metadata": {},
     "output_type": "display_data"
    },
    {
     "data": {
      "image/png": "[encoded data removed]",
      "text/plain": [
       "<Figure size 500x500 with 1 Axes>"
      ]
     },
     "metadata": {},
     "output_type": "display_data"
    },
    {
     "data": {
      "image/png": "[encoded data removed]",
      "text/plain": [
       "<Figure size 500x500 with 1 Axes>"
      ]
     },
     "metadata": {},
     "output_type": "display_data"
    }
   ],
   "source": [
    "plt.figure(figsize = (15, 8));\n",
    "number = 1\n",
    "row = 4\n",
    "for i in list_of_role:\n",
    "    df_profession = df[df.Profession==i]\n",
    "    plt.subplot(row, 3, number)\n",
    "    sns.displot(df_profession['Annual Income ($)'])\n",
    "    number += 1\n",
    "    plt.title(i)\n",
    "    plt.tight_layout();"
   ]
  },
  {
   "cell_type": "code",
   "execution_count": 12,
   "id": "79880467",
   "metadata": {
    "execution": {
     "iopub.execute_input": "2023-04-03T10:39:23.844015Z",
     "iopub.status.busy": "2023-04-03T10:39:23.843598Z",
     "iopub.status.idle": "2023-04-03T10:39:23.858644Z",
     "shell.execute_reply": "2023-04-03T10:39:23.857579Z"
    },
    "papermill": {
     "duration": 0.033098,
     "end_time": "2023-04-03T10:39:23.861681",
     "exception": false,
     "start_time": "2023-04-03T10:39:23.828583",
     "status": "completed"
    },
    "tags": []
   },
   "outputs": [
    {
     "name": "stdout",
     "output_type": "stream",
     "text": [
      "1 Annual Income average of Healthcare is 112574.04\n",
      "2 Annual Income average of Engineer is 111161.24\n",
      "3 Annual Income average of Lawyer is 110995.84\n",
      "4 Annual Income average of Entertainment is 110650.33\n",
      "5 Annual Income average of Artist is 108776.58\n",
      "6 Annual Income average of Executive is 113770.13\n",
      "7 Annual Income average of Doctor is 111573.22\n",
      "8 Annual Income average of Homemaker is 108758.62\n",
      "9 Annual Income average of Marketing is 107994.21\n"
     ]
    }
   ],
   "source": [
    "x = 1\n",
    "for i in list_of_role:\n",
    "    df_profession = df[df.Profession==i]\n",
    "    average_salary = df_profession['Annual Income ($)'].mean()\n",
    "    print(x, 'Annual Income average of', i, 'is', round(average_salary, 2))\n",
    "    x += 1"
   ]
  },
  {
   "cell_type": "markdown",
   "id": "9606aff1",
   "metadata": {
    "papermill": {
     "duration": 0.012637,
     "end_time": "2023-04-03T10:39:23.887952",
     "exception": false,
     "start_time": "2023-04-03T10:39:23.875315",
     "status": "completed"
    },
    "tags": []
   },
   "source": [
    "Annual income average of professions is almost same. There are not significant different. "
   ]
  },
  {
   "cell_type": "code",
   "execution_count": 13,
   "id": "93c87064",
   "metadata": {
    "execution": {
     "iopub.execute_input": "2023-04-03T10:39:23.917231Z",
     "iopub.status.busy": "2023-04-03T10:39:23.916536Z",
     "iopub.status.idle": "2023-04-03T10:39:23.931856Z",
     "shell.execute_reply": "2023-04-03T10:39:23.930290Z"
    },
    "papermill": {
     "duration": 0.034027,
     "end_time": "2023-04-03T10:39:23.934992",
     "exception": false,
     "start_time": "2023-04-03T10:39:23.900965",
     "status": "completed"
    },
    "tags": []
   },
   "outputs": [
    {
     "name": "stdout",
     "output_type": "stream",
     "text": [
      "1 Spending score average of Healthcare is 50.52\n",
      "2 Spending score average of Engineer is 48.97\n",
      "3 Spending score average of Lawyer is 48.86\n",
      "4 Spending score average of Entertainment is 52.94\n",
      "5 Spending score average of Artist is 52.68\n",
      "6 Spending score average of Executive is 49.9\n",
      "7 Spending score average of Doctor is 51.9\n",
      "8 Spending score average of Homemaker is 46.38\n",
      "9 Spending score average of Marketing is 48.72\n"
     ]
    }
   ],
   "source": [
    "x = 1\n",
    "for i in list_of_role:\n",
    "    df_profession = df[df.Profession==i]\n",
    "    average_salary = df_profession['Spending Score (1-100)'].mean()\n",
    "    print(x, 'Spending score average of', i, 'is', round(average_salary, 2))\n",
    "    x += 1"
   ]
  },
  {
   "cell_type": "markdown",
   "id": "0464e092",
   "metadata": {
    "papermill": {
     "duration": 0.012795,
     "end_time": "2023-04-03T10:39:23.960993",
     "exception": false,
     "start_time": "2023-04-03T10:39:23.948198",
     "status": "completed"
    },
    "tags": []
   },
   "source": [
    "Their spending score are also not significant different."
   ]
  },
  {
   "cell_type": "code",
   "execution_count": 14,
   "id": "3f6a310c",
   "metadata": {
    "execution": {
     "iopub.execute_input": "2023-04-03T10:39:23.990762Z",
     "iopub.status.busy": "2023-04-03T10:39:23.989925Z",
     "iopub.status.idle": "2023-04-03T10:39:24.007078Z",
     "shell.execute_reply": "2023-04-03T10:39:24.005416Z"
    },
    "papermill": {
     "duration": 0.034953,
     "end_time": "2023-04-03T10:39:24.009947",
     "exception": false,
     "start_time": "2023-04-03T10:39:23.974994",
     "status": "completed"
    },
    "tags": []
   },
   "outputs": [
    {
     "name": "stdout",
     "output_type": "stream",
     "text": [
      "1 Age average of Healthcare is 47.84\n",
      "2 Age average of Engineer is 55.09\n",
      "3 Age average of Lawyer is 47.75\n",
      "4 Age average of Entertainment is 51.16\n",
      "5 Age average of Artist is 49.0\n",
      "6 Age average of Executive is 46.6\n",
      "7 Age average of Doctor is 46.62\n",
      "8 Age average of Homemaker is 45.37\n",
      "9 Age average of Marketing is 45.82\n"
     ]
    }
   ],
   "source": [
    "x = 1\n",
    "for i in list_of_role:\n",
    "    df_profession = df[df.Profession==i]\n",
    "    average_salary = df_profession.Age.mean()\n",
    "    print(x, 'Age average of', i, 'is', round(average_salary, 2))\n",
    "    x += 1"
   ]
  },
  {
   "cell_type": "code",
   "execution_count": 15,
   "id": "91729c8d",
   "metadata": {
    "execution": {
     "iopub.execute_input": "2023-04-03T10:39:24.039708Z",
     "iopub.status.busy": "2023-04-03T10:39:24.038882Z",
     "iopub.status.idle": "2023-04-03T10:39:27.317320Z",
     "shell.execute_reply": "2023-04-03T10:39:27.315848Z"
    },
    "papermill": {
     "duration": 3.29687,
     "end_time": "2023-04-03T10:39:27.320470",
     "exception": false,
     "start_time": "2023-04-03T10:39:24.023600",
     "status": "completed"
    },
    "tags": []
   },
   "outputs": [
    {
     "data": {
      "image/png": "[encoded data removed]",
      "text/plain": [
       "<Figure size 1500x800 with 1 Axes>"
      ]
     },
     "metadata": {},
     "output_type": "display_data"
    },
    {
     "data": {
      "image/png": "[encoded data removed]",
      "text/plain": [
       "<Figure size 500x500 with 1 Axes>"
      ]
     },
     "metadata": {},
     "output_type": "display_data"
    },
    {
     "data": {
      "image/png": "[encoded data removed]",
      "text/plain": [
       "<Figure size 500x500 with 1 Axes>"
      ]
     },
     "metadata": {},
     "output_type": "display_data"
    },
    {
     "data": {
      "image/png": "[encoded data removed]",
      "text/plain": [
       "<Figure size 500x500 with 1 Axes>"
      ]
     },
     "metadata": {},
     "output_type": "display_data"
    },
    {
     "data": {
      "image/png": "[encoded data removed]",
      "text/plain": [
       "<Figure size 500x500 with 1 Axes>"
      ]
     },
     "metadata": {},
     "output_type": "display_data"
    },
    {
     "data": {
      "image/png": "[encoded data removed]",
      "text/plain": [
       "<Figure size 500x500 with 1 Axes>"
      ]
     },
     "metadata": {},
     "output_type": "display_data"
    },
    {
     "data": {
      "image/png": "[encoded data removed]",
      "text/plain": [
       "<Figure size 500x500 with 1 Axes>"
      ]
     },
     "metadata": {},
     "output_type": "display_data"
    },
    {
     "data": {
      "image/png": "[encoded data removed]",
      "text/plain": [
       "<Figure size 500x500 with 1 Axes>"
      ]
     },
     "metadata": {},
     "output_type": "display_data"
    },
    {
     "data": {
      "image/png": "[encoded data removed]",
      "text/plain": [
       "<Figure size 500x500 with 1 Axes>"
      ]
     },
     "metadata": {},
     "output_type": "display_data"
    },
    {
     "data": {
      "image/png": "[encoded data removed]",
      "text/plain": [
       "<Figure size 500x500 with 1 Axes>"
      ]
     },
     "metadata": {},
     "output_type": "display_data"
    }
   ],
   "source": [
    "import sys\n",
    "plt.figure(figsize = (15, 8));\n",
    "number = 1\n",
    "row = 4\n",
    "for i in list_of_role:\n",
    "    df_profession = df[df.Profession==i]\n",
    "    plt.subplot(row, 3, number)\n",
    "    sns.displot(df_profession.Age)\n",
    "    number += 1\n",
    "    plt.title(i)\n",
    "    plt.tight_layout();"
   ]
  },
  {
   "cell_type": "code",
   "execution_count": 16,
   "id": "284ae6bc",
   "metadata": {
    "execution": {
     "iopub.execute_input": "2023-04-03T10:39:27.353520Z",
     "iopub.status.busy": "2023-04-03T10:39:27.353069Z",
     "iopub.status.idle": "2023-04-03T10:39:27.395046Z",
     "shell.execute_reply": "2023-04-03T10:39:27.393672Z"
    },
    "papermill": {
     "duration": 0.061992,
     "end_time": "2023-04-03T10:39:27.398013",
     "exception": false,
     "start_time": "2023-04-03T10:39:27.336021",
     "status": "completed"
    },
    "tags": []
   },
   "outputs": [
    {
     "data": {
      "text/html": [
       "<div>\n",
       "<style scoped>\n",
       "    .dataframe tbody tr th:only-of-type {\n",
       "        vertical-align: middle;\n",
       "    }\n",
       "\n",
       "    .dataframe tbody tr th {\n",
       "        vertical-align: top;\n",
       "    }\n",
       "\n",
       "    .dataframe thead th {\n",
       "        text-align: right;\n",
       "    }\n",
       "</style>\n",
       "<table border=\"1\" class=\"dataframe\">\n",
       "  <thead>\n",
       "    <tr style=\"text-align: right;\">\n",
       "      <th></th>\n",
       "      <th>count</th>\n",
       "      <th>unique</th>\n",
       "      <th>top</th>\n",
       "      <th>freq</th>\n",
       "      <th>mean</th>\n",
       "      <th>std</th>\n",
       "      <th>min</th>\n",
       "      <th>25%</th>\n",
       "      <th>50%</th>\n",
       "      <th>75%</th>\n",
       "      <th>max</th>\n",
       "    </tr>\n",
       "  </thead>\n",
       "  <tbody>\n",
       "    <tr>\n",
       "      <th>CustomerID</th>\n",
       "      <td>2000.0</td>\n",
       "      <td>NaN</td>\n",
       "      <td>NaN</td>\n",
       "      <td>NaN</td>\n",
       "      <td>1000.5</td>\n",
       "      <td>577.494589</td>\n",
       "      <td>1.0</td>\n",
       "      <td>500.75</td>\n",
       "      <td>1000.5</td>\n",
       "      <td>1500.25</td>\n",
       "      <td>2000.0</td>\n",
       "    </tr>\n",
       "    <tr>\n",
       "      <th>Gender</th>\n",
       "      <td>2000</td>\n",
       "      <td>2</td>\n",
       "      <td>Female</td>\n",
       "      <td>1186</td>\n",
       "      <td>NaN</td>\n",
       "      <td>NaN</td>\n",
       "      <td>NaN</td>\n",
       "      <td>NaN</td>\n",
       "      <td>NaN</td>\n",
       "      <td>NaN</td>\n",
       "      <td>NaN</td>\n",
       "    </tr>\n",
       "    <tr>\n",
       "      <th>Age</th>\n",
       "      <td>2000.0</td>\n",
       "      <td>NaN</td>\n",
       "      <td>NaN</td>\n",
       "      <td>NaN</td>\n",
       "      <td>48.96</td>\n",
       "      <td>28.429747</td>\n",
       "      <td>0.0</td>\n",
       "      <td>25.0</td>\n",
       "      <td>48.0</td>\n",
       "      <td>73.0</td>\n",
       "      <td>99.0</td>\n",
       "    </tr>\n",
       "    <tr>\n",
       "      <th>Annual Income ($)</th>\n",
       "      <td>2000.0</td>\n",
       "      <td>NaN</td>\n",
       "      <td>NaN</td>\n",
       "      <td>NaN</td>\n",
       "      <td>110731.8215</td>\n",
       "      <td>45739.536688</td>\n",
       "      <td>0.0</td>\n",
       "      <td>74572.0</td>\n",
       "      <td>110045.0</td>\n",
       "      <td>149092.75</td>\n",
       "      <td>189974.0</td>\n",
       "    </tr>\n",
       "    <tr>\n",
       "      <th>Spending Score (1-100)</th>\n",
       "      <td>2000.0</td>\n",
       "      <td>NaN</td>\n",
       "      <td>NaN</td>\n",
       "      <td>NaN</td>\n",
       "      <td>50.9625</td>\n",
       "      <td>27.934661</td>\n",
       "      <td>0.0</td>\n",
       "      <td>28.0</td>\n",
       "      <td>50.0</td>\n",
       "      <td>75.0</td>\n",
       "      <td>100.0</td>\n",
       "    </tr>\n",
       "    <tr>\n",
       "      <th>Profession</th>\n",
       "      <td>1965</td>\n",
       "      <td>9</td>\n",
       "      <td>Artist</td>\n",
       "      <td>612</td>\n",
       "      <td>NaN</td>\n",
       "      <td>NaN</td>\n",
       "      <td>NaN</td>\n",
       "      <td>NaN</td>\n",
       "      <td>NaN</td>\n",
       "      <td>NaN</td>\n",
       "      <td>NaN</td>\n",
       "    </tr>\n",
       "    <tr>\n",
       "      <th>Work Experience</th>\n",
       "      <td>2000.0</td>\n",
       "      <td>NaN</td>\n",
       "      <td>NaN</td>\n",
       "      <td>NaN</td>\n",
       "      <td>4.1025</td>\n",
       "      <td>3.922204</td>\n",
       "      <td>0.0</td>\n",
       "      <td>1.0</td>\n",
       "      <td>3.0</td>\n",
       "      <td>7.0</td>\n",
       "      <td>17.0</td>\n",
       "    </tr>\n",
       "    <tr>\n",
       "      <th>Family Size</th>\n",
       "      <td>2000.0</td>\n",
       "      <td>NaN</td>\n",
       "      <td>NaN</td>\n",
       "      <td>NaN</td>\n",
       "      <td>3.7685</td>\n",
       "      <td>1.970749</td>\n",
       "      <td>1.0</td>\n",
       "      <td>2.0</td>\n",
       "      <td>4.0</td>\n",
       "      <td>5.0</td>\n",
       "      <td>9.0</td>\n",
       "    </tr>\n",
       "  </tbody>\n",
       "</table>\n",
       "</div>"
      ],
      "text/plain": [
       "                         count unique     top  freq         mean  \\\n",
       "CustomerID              2000.0    NaN     NaN   NaN       1000.5   \n",
       "Gender                    2000      2  Female  1186          NaN   \n",
       "Age                     2000.0    NaN     NaN   NaN        48.96   \n",
       "Annual Income ($)       2000.0    NaN     NaN   NaN  110731.8215   \n",
       "Spending Score (1-100)  2000.0    NaN     NaN   NaN      50.9625   \n",
       "Profession                1965      9  Artist   612          NaN   \n",
       "Work Experience         2000.0    NaN     NaN   NaN       4.1025   \n",
       "Family Size             2000.0    NaN     NaN   NaN       3.7685   \n",
       "\n",
       "                                 std  min      25%       50%        75%  \\\n",
       "CustomerID                577.494589  1.0   500.75    1000.5    1500.25   \n",
       "Gender                           NaN  NaN      NaN       NaN        NaN   \n",
       "Age                        28.429747  0.0     25.0      48.0       73.0   \n",
       "Annual Income ($)       45739.536688  0.0  74572.0  110045.0  149092.75   \n",
       "Spending Score (1-100)     27.934661  0.0     28.0      50.0       75.0   \n",
       "Profession                       NaN  NaN      NaN       NaN        NaN   \n",
       "Work Experience             3.922204  0.0      1.0       3.0        7.0   \n",
       "Family Size                 1.970749  1.0      2.0       4.0        5.0   \n",
       "\n",
       "                             max  \n",
       "CustomerID                2000.0  \n",
       "Gender                       NaN  \n",
       "Age                         99.0  \n",
       "Annual Income ($)       189974.0  \n",
       "Spending Score (1-100)     100.0  \n",
       "Profession                   NaN  \n",
       "Work Experience             17.0  \n",
       "Family Size                  9.0  "
      ]
     },
     "execution_count": 16,
     "metadata": {},
     "output_type": "execute_result"
    }
   ],
   "source": [
    "df.describe(include='all').T"
   ]
  },
  {
   "cell_type": "code",
   "execution_count": 17,
   "id": "8d8e8b8c",
   "metadata": {
    "execution": {
     "iopub.execute_input": "2023-04-03T10:39:27.431723Z",
     "iopub.status.busy": "2023-04-03T10:39:27.431242Z",
     "iopub.status.idle": "2023-04-03T10:39:27.450383Z",
     "shell.execute_reply": "2023-04-03T10:39:27.448858Z"
    },
    "papermill": {
     "duration": 0.039663,
     "end_time": "2023-04-03T10:39:27.453416",
     "exception": false,
     "start_time": "2023-04-03T10:39:27.413753",
     "status": "completed"
    },
    "tags": []
   },
   "outputs": [
    {
     "name": "stdout",
     "output_type": "stream",
     "text": [
      "1 Work Experience average of Healthcare is 4.0\n",
      "2 Work Experience average of Engineer is 3.96\n",
      "3 Work Experience average of Lawyer is 3.53\n",
      "4 Work Experience average of Entertainment is 3.5\n",
      "5 Work Experience average of Artist is 4.22\n",
      "6 Work Experience average of Executive is 4.25\n",
      "7 Work Experience average of Doctor is 4.3\n",
      "8 Work Experience average of Homemaker is 6.13\n",
      "9 Work Experience average of Marketing is 4.31\n"
     ]
    }
   ],
   "source": [
    "x = 1\n",
    "for i in list_of_role:\n",
    "    df_profession = df[df.Profession==i]\n",
    "    average_salary = df_profession['Work Experience'].mean()\n",
    "    print(x, 'Work Experience average of', i, 'is', round(average_salary, 2))\n",
    "    x += 1"
   ]
  },
  {
   "cell_type": "code",
   "execution_count": 18,
   "id": "f60b055c",
   "metadata": {
    "execution": {
     "iopub.execute_input": "2023-04-03T10:39:27.487974Z",
     "iopub.status.busy": "2023-04-03T10:39:27.486541Z",
     "iopub.status.idle": "2023-04-03T10:39:27.503950Z",
     "shell.execute_reply": "2023-04-03T10:39:27.501740Z"
    },
    "papermill": {
     "duration": 0.038033,
     "end_time": "2023-04-03T10:39:27.507416",
     "exception": false,
     "start_time": "2023-04-03T10:39:27.469383",
     "status": "completed"
    },
    "tags": []
   },
   "outputs": [
    {
     "name": "stdout",
     "output_type": "stream",
     "text": [
      "1 Family size average of Healthcare is 3.91\n",
      "2 Family size average of Engineer is 3.58\n",
      "3 Family size average of Lawyer is 3.62\n",
      "4 Family size average of Entertainment is 3.89\n",
      "5 Family size average of Artist is 3.65\n",
      "6 Family size average of Executive is 3.97\n",
      "7 Family size average of Doctor is 3.67\n",
      "8 Family size average of Homemaker is 4.05\n",
      "9 Family size average of Marketing is 3.73\n"
     ]
    }
   ],
   "source": [
    "x = 1\n",
    "for i in list_of_role:\n",
    "    df_profession = df[df.Profession==i]\n",
    "    average_salary = df_profession['Family Size'].mean()\n",
    "    print(x, 'Family size average of', i, 'is', round(average_salary, 2))\n",
    "    x += 1"
   ]
  },
  {
   "cell_type": "markdown",
   "id": "8de1d742",
   "metadata": {
    "papermill": {
     "duration": 0.015291,
     "end_time": "2023-04-03T10:39:27.538620",
     "exception": false,
     "start_time": "2023-04-03T10:39:27.523329",
     "status": "completed"
    },
    "tags": []
   },
   "source": [
    "Their family size based on their profession is almost same."
   ]
  },
  {
   "cell_type": "code",
   "execution_count": 19,
   "id": "186de661",
   "metadata": {
    "execution": {
     "iopub.execute_input": "2023-04-03T10:39:27.572441Z",
     "iopub.status.busy": "2023-04-03T10:39:27.572004Z",
     "iopub.status.idle": "2023-04-03T10:39:27.579815Z",
     "shell.execute_reply": "2023-04-03T10:39:27.578431Z"
    },
    "papermill": {
     "duration": 0.02777,
     "end_time": "2023-04-03T10:39:27.582464",
     "exception": false,
     "start_time": "2023-04-03T10:39:27.554694",
     "status": "completed"
    },
    "tags": []
   },
   "outputs": [
    {
     "data": {
      "text/plain": [
       "Index(['CustomerID', 'Gender', 'Age', 'Annual Income ($)',\n",
       "       'Spending Score (1-100)', 'Profession', 'Work Experience',\n",
       "       'Family Size'],\n",
       "      dtype='object')"
      ]
     },
     "execution_count": 19,
     "metadata": {},
     "output_type": "execute_result"
    }
   ],
   "source": [
    "df.columns"
   ]
  },
  {
   "cell_type": "markdown",
   "id": "d904a949",
   "metadata": {
    "papermill": {
     "duration": 0.015566,
     "end_time": "2023-04-03T10:39:27.613780",
     "exception": false,
     "start_time": "2023-04-03T10:39:27.598214",
     "status": "completed"
    },
    "tags": []
   },
   "source": [
    "When all of aspect (age, annual income, spending score, work experience, and family size) is not significant different, I'll fill nan values in Profession column with the most profession of customers on dataset."
   ]
  },
  {
   "cell_type": "code",
   "execution_count": 20,
   "id": "8218f022",
   "metadata": {
    "execution": {
     "iopub.execute_input": "2023-04-03T10:39:27.647796Z",
     "iopub.status.busy": "2023-04-03T10:39:27.646616Z",
     "iopub.status.idle": "2023-04-03T10:39:28.011764Z",
     "shell.execute_reply": "2023-04-03T10:39:28.010412Z"
    },
    "papermill": {
     "duration": 0.385243,
     "end_time": "2023-04-03T10:39:28.014639",
     "exception": false,
     "start_time": "2023-04-03T10:39:27.629396",
     "status": "completed"
    },
    "tags": []
   },
   "outputs": [
    {
     "data": {
      "image/png": "[encoded data removed]",
      "text/plain": [
       "<Figure size 1500x800 with 1 Axes>"
      ]
     },
     "metadata": {},
     "output_type": "display_data"
    }
   ],
   "source": [
    "plt.figure(figsize = (15, 8))\n",
    "ax = sns.countplot(x='Profession', data=df, palette=\"hls\")\n",
    "ax.bar_label(ax.containers[0]);"
   ]
  },
  {
   "cell_type": "code",
   "execution_count": 21,
   "id": "cf9df30d",
   "metadata": {
    "execution": {
     "iopub.execute_input": "2023-04-03T10:39:28.049394Z",
     "iopub.status.busy": "2023-04-03T10:39:28.048241Z",
     "iopub.status.idle": "2023-04-03T10:39:28.057016Z",
     "shell.execute_reply": "2023-04-03T10:39:28.055940Z"
    },
    "papermill": {
     "duration": 0.02898,
     "end_time": "2023-04-03T10:39:28.059683",
     "exception": false,
     "start_time": "2023-04-03T10:39:28.030703",
     "status": "completed"
    },
    "tags": []
   },
   "outputs": [],
   "source": [
    "df.Profession = df.Profession.fillna(df.Profession.mode()[0])"
   ]
  },
  {
   "cell_type": "code",
   "execution_count": 22,
   "id": "0565293c",
   "metadata": {
    "execution": {
     "iopub.execute_input": "2023-04-03T10:39:28.094218Z",
     "iopub.status.busy": "2023-04-03T10:39:28.093470Z",
     "iopub.status.idle": "2023-04-03T10:39:28.103021Z",
     "shell.execute_reply": "2023-04-03T10:39:28.101764Z"
    },
    "papermill": {
     "duration": 0.029904,
     "end_time": "2023-04-03T10:39:28.105698",
     "exception": false,
     "start_time": "2023-04-03T10:39:28.075794",
     "status": "completed"
    },
    "tags": []
   },
   "outputs": [
    {
     "data": {
      "text/plain": [
       "CustomerID                0\n",
       "Gender                    0\n",
       "Age                       0\n",
       "Annual Income ($)         0\n",
       "Spending Score (1-100)    0\n",
       "Profession                0\n",
       "Work Experience           0\n",
       "Family Size               0\n",
       "dtype: int64"
      ]
     },
     "execution_count": 22,
     "metadata": {},
     "output_type": "execute_result"
    }
   ],
   "source": [
    "df.isna().sum()"
   ]
  },
  {
   "cell_type": "code",
   "execution_count": 23,
   "id": "0eca96f0",
   "metadata": {
    "execution": {
     "iopub.execute_input": "2023-04-03T10:39:28.140409Z",
     "iopub.status.busy": "2023-04-03T10:39:28.139248Z",
     "iopub.status.idle": "2023-04-03T10:39:28.151941Z",
     "shell.execute_reply": "2023-04-03T10:39:28.150601Z"
    },
    "papermill": {
     "duration": 0.03313,
     "end_time": "2023-04-03T10:39:28.154892",
     "exception": false,
     "start_time": "2023-04-03T10:39:28.121762",
     "status": "completed"
    },
    "tags": []
   },
   "outputs": [
    {
     "data": {
      "text/plain": [
       "CustomerID                2000\n",
       "Gender                       2\n",
       "Age                        100\n",
       "Annual Income ($)         1786\n",
       "Spending Score (1-100)     101\n",
       "Profession                   9\n",
       "Work Experience             18\n",
       "Family Size                  9\n",
       "dtype: int64"
      ]
     },
     "execution_count": 23,
     "metadata": {},
     "output_type": "execute_result"
    }
   ],
   "source": [
    "df.nunique()"
   ]
  },
  {
   "cell_type": "markdown",
   "id": "36e033ca",
   "metadata": {
    "papermill": {
     "duration": 0.015876,
     "end_time": "2023-04-03T10:39:28.187350",
     "exception": false,
     "start_time": "2023-04-03T10:39:28.171474",
     "status": "completed"
    },
    "tags": []
   },
   "source": [
    "Delete CustomerID because it has unique values as much as data rows "
   ]
  },
  {
   "cell_type": "code",
   "execution_count": 24,
   "id": "b2e6cbb3",
   "metadata": {
    "execution": {
     "iopub.execute_input": "2023-04-03T10:39:28.222245Z",
     "iopub.status.busy": "2023-04-03T10:39:28.221739Z",
     "iopub.status.idle": "2023-04-03T10:39:28.227649Z",
     "shell.execute_reply": "2023-04-03T10:39:28.226489Z"
    },
    "papermill": {
     "duration": 0.026652,
     "end_time": "2023-04-03T10:39:28.230418",
     "exception": false,
     "start_time": "2023-04-03T10:39:28.203766",
     "status": "completed"
    },
    "tags": []
   },
   "outputs": [],
   "source": [
    "del df['CustomerID']"
   ]
  },
  {
   "cell_type": "markdown",
   "id": "5af2317a",
   "metadata": {
    "papermill": {
     "duration": 0.015858,
     "end_time": "2023-04-03T10:39:28.262755",
     "exception": false,
     "start_time": "2023-04-03T10:39:28.246897",
     "status": "completed"
    },
    "tags": []
   },
   "source": [
    "# EDA"
   ]
  },
  {
   "cell_type": "code",
   "execution_count": 25,
   "id": "e8d1b5fa",
   "metadata": {
    "execution": {
     "iopub.execute_input": "2023-04-03T10:39:28.297614Z",
     "iopub.status.busy": "2023-04-03T10:39:28.297212Z",
     "iopub.status.idle": "2023-04-03T10:39:28.307612Z",
     "shell.execute_reply": "2023-04-03T10:39:28.306382Z"
    },
    "papermill": {
     "duration": 0.031218,
     "end_time": "2023-04-03T10:39:28.310268",
     "exception": false,
     "start_time": "2023-04-03T10:39:28.279050",
     "status": "completed"
    },
    "tags": []
   },
   "outputs": [
    {
     "data": {
      "text/plain": [
       "['Age',\n",
       " 'Annual Income ($)',\n",
       " 'Spending Score (1-100)',\n",
       " 'Work Experience',\n",
       " 'Family Size']"
      ]
     },
     "execution_count": 25,
     "metadata": {},
     "output_type": "execute_result"
    }
   ],
   "source": [
    "numeric_columns = df.select_dtypes(exclude=\"object\").columns.tolist()\n",
    "numeric_columns"
   ]
  },
  {
   "cell_type": "code",
   "execution_count": 26,
   "id": "9baa93ac",
   "metadata": {
    "execution": {
     "iopub.execute_input": "2023-04-03T10:39:28.344819Z",
     "iopub.status.busy": "2023-04-03T10:39:28.344417Z",
     "iopub.status.idle": "2023-04-03T10:39:28.354412Z",
     "shell.execute_reply": "2023-04-03T10:39:28.353066Z"
    },
    "papermill": {
     "duration": 0.030154,
     "end_time": "2023-04-03T10:39:28.356906",
     "exception": false,
     "start_time": "2023-04-03T10:39:28.326752",
     "status": "completed"
    },
    "tags": []
   },
   "outputs": [
    {
     "data": {
      "text/plain": [
       "['Gender', 'Profession']"
      ]
     },
     "execution_count": 26,
     "metadata": {},
     "output_type": "execute_result"
    }
   ],
   "source": [
    "categoric_columns = df.select_dtypes(include=\"object\").columns.tolist()\n",
    "categoric_columns"
   ]
  },
  {
   "cell_type": "code",
   "execution_count": 27,
   "id": "4d161e3c",
   "metadata": {
    "execution": {
     "iopub.execute_input": "2023-04-03T10:39:28.392133Z",
     "iopub.status.busy": "2023-04-03T10:39:28.391048Z",
     "iopub.status.idle": "2023-04-03T10:39:30.586154Z",
     "shell.execute_reply": "2023-04-03T10:39:30.584766Z"
    },
    "papermill": {
     "duration": 2.215645,
     "end_time": "2023-04-03T10:39:30.588926",
     "exception": false,
     "start_time": "2023-04-03T10:39:28.373281",
     "status": "completed"
    },
    "tags": []
   },
   "outputs": [
    {
     "data": {
      "image/png": "[encoded data removed]",
      "text/plain": [
       "<Figure size 1500x800 with 1 Axes>"
      ]
     },
     "metadata": {},
     "output_type": "display_data"
    },
    {
     "data": {
      "image/png": "[encoded data removed]",
      "text/plain": [
       "<Figure size 500x500 with 1 Axes>"
      ]
     },
     "metadata": {},
     "output_type": "display_data"
    },
    {
     "data": {
      "image/png": "[encoded data removed]",
      "text/plain": [
       "<Figure size 500x500 with 1 Axes>"
      ]
     },
     "metadata": {},
     "output_type": "display_data"
    },
    {
     "data": {
      "image/png": "[encoded data removed]",
      "text/plain": [
       "<Figure size 500x500 with 1 Axes>"
      ]
     },
     "metadata": {},
     "output_type": "display_data"
    },
    {
     "data": {
      "image/png": "[encoded data removed]",
      "text/plain": [
       "<Figure size 500x500 with 1 Axes>"
      ]
     },
     "metadata": {},
     "output_type": "display_data"
    },
    {
     "data": {
      "image/png": "[encoded data removed]",
      "text/plain": [
       "<Figure size 500x500 with 1 Axes>"
      ]
     },
     "metadata": {},
     "output_type": "display_data"
    }
   ],
   "source": [
    "plt.figure(figsize = (15, 8));\n",
    "number = 1\n",
    "row = 3\n",
    "for i in numeric_columns:\n",
    "    plt.subplot(row, 3, number)\n",
    "    sns.displot(df[i])\n",
    "    number += 1\n",
    "    plt.tight_layout();"
   ]
  },
  {
   "cell_type": "markdown",
   "id": "ca1d884f",
   "metadata": {
    "papermill": {
     "duration": 0.017578,
     "end_time": "2023-04-03T10:39:30.625514",
     "exception": false,
     "start_time": "2023-04-03T10:39:30.607936",
     "status": "completed"
    },
    "tags": []
   },
   "source": [
    "Age, Annual Income, and Spending Score look like normal distribution. Work Experience has positive skew distribution."
   ]
  },
  {
   "cell_type": "code",
   "execution_count": 28,
   "id": "c85d9283",
   "metadata": {
    "execution": {
     "iopub.execute_input": "2023-04-03T10:39:30.663430Z",
     "iopub.status.busy": "2023-04-03T10:39:30.662552Z",
     "iopub.status.idle": "2023-04-03T10:39:30.969574Z",
     "shell.execute_reply": "2023-04-03T10:39:30.967952Z"
    },
    "papermill": {
     "duration": 0.328771,
     "end_time": "2023-04-03T10:39:30.972207",
     "exception": false,
     "start_time": "2023-04-03T10:39:30.643436",
     "status": "completed"
    },
    "tags": []
   },
   "outputs": [
    {
     "data": {
      "image/png": "[encoded data removed]",
      "text/plain": [
       "<Figure size 640x480 with 1 Axes>"
      ]
     },
     "metadata": {},
     "output_type": "display_data"
    }
   ],
   "source": [
    "ax = sns.countplot(x='Family Size', data=df, palette=\"hls\")\n",
    "ax.bar_label(ax.containers[0]);"
   ]
  },
  {
   "cell_type": "markdown",
   "id": "38dcc6f9",
   "metadata": {
    "papermill": {
     "duration": 0.01961,
     "end_time": "2023-04-03T10:39:31.011079",
     "exception": false,
     "start_time": "2023-04-03T10:39:30.991469",
     "status": "completed"
    },
    "tags": []
   },
   "source": [
    "Customers has different family size and the most family size that customers have is only 2."
   ]
  },
  {
   "cell_type": "code",
   "execution_count": 29,
   "id": "4ddee6d5",
   "metadata": {
    "execution": {
     "iopub.execute_input": "2023-04-03T10:39:31.050320Z",
     "iopub.status.busy": "2023-04-03T10:39:31.049132Z",
     "iopub.status.idle": "2023-04-03T10:39:31.574805Z",
     "shell.execute_reply": "2023-04-03T10:39:31.573811Z"
    },
    "papermill": {
     "duration": 0.547943,
     "end_time": "2023-04-03T10:39:31.577284",
     "exception": false,
     "start_time": "2023-04-03T10:39:31.029341",
     "status": "completed"
    },
    "tags": []
   },
   "outputs": [
    {
     "data": {
      "image/png": "[encoded data removed]",
      "text/plain": [
       "<Figure size 2000x500 with 2 Axes>"
      ]
     },
     "metadata": {},
     "output_type": "display_data"
    }
   ],
   "source": [
    "plt.figure(figsize = (20, 5))\n",
    "number = 1\n",
    "row = 1\n",
    "for i in categoric_columns:\n",
    "    plt.subplot(row, 3, number)\n",
    "    ax = sns.countplot(x=i, data=df, palette=\"hls\")\n",
    "    ax.bar_label(ax.containers[0]);\n",
    "    number += 1\n",
    "    plt.tight_layout()"
   ]
  },
  {
   "cell_type": "markdown",
   "id": "cac03c4a",
   "metadata": {
    "papermill": {
     "duration": 0.018647,
     "end_time": "2023-04-03T10:39:31.615409",
     "exception": false,
     "start_time": "2023-04-03T10:39:31.596762",
     "status": "completed"
    },
    "tags": []
   },
   "source": [
    "The most customers are female and the most customers are from artist role. The lowest customers are from homemaker role."
   ]
  },
  {
   "cell_type": "code",
   "execution_count": 30,
   "id": "9ff4ffae",
   "metadata": {
    "execution": {
     "iopub.execute_input": "2023-04-03T10:39:31.655966Z",
     "iopub.status.busy": "2023-04-03T10:39:31.655022Z",
     "iopub.status.idle": "2023-04-03T10:39:32.056507Z",
     "shell.execute_reply": "2023-04-03T10:39:32.055515Z"
    },
    "papermill": {
     "duration": 0.424625,
     "end_time": "2023-04-03T10:39:32.058978",
     "exception": false,
     "start_time": "2023-04-03T10:39:31.634353",
     "status": "completed"
    },
    "tags": []
   },
   "outputs": [
    {
     "data": {
      "image/png": "[encoded data removed]",
      "text/plain": [
       "<Figure size 1000x500 with 1 Axes>"
      ]
     },
     "metadata": {},
     "output_type": "display_data"
    }
   ],
   "source": [
    "plt.figure(figsize = (10, 5))\n",
    "ax = sns.countplot(x='Work Experience', data=df, palette=\"hls\")\n",
    "ax.bar_label(ax.containers[0]);"
   ]
  },
  {
   "cell_type": "markdown",
   "id": "f5af9582",
   "metadata": {
    "papermill": {
     "duration": 0.019083,
     "end_time": "2023-04-03T10:39:32.097522",
     "exception": false,
     "start_time": "2023-04-03T10:39:32.078439",
     "status": "completed"
    },
    "tags": []
   },
   "source": [
    "The most work experience of customers in dataset is 1 year and 0 year experience. "
   ]
  },
  {
   "cell_type": "code",
   "execution_count": 31,
   "id": "42681f53",
   "metadata": {
    "execution": {
     "iopub.execute_input": "2023-04-03T10:39:32.138410Z",
     "iopub.status.busy": "2023-04-03T10:39:32.137930Z",
     "iopub.status.idle": "2023-04-03T10:39:32.153069Z",
     "shell.execute_reply": "2023-04-03T10:39:32.151499Z"
    },
    "papermill": {
     "duration": 0.03907,
     "end_time": "2023-04-03T10:39:32.155930",
     "exception": false,
     "start_time": "2023-04-03T10:39:32.116860",
     "status": "completed"
    },
    "tags": []
   },
   "outputs": [],
   "source": [
    "df.to_csv(\"Shop Customer Analysis.csv\", index=False)"
   ]
  }
 ],
 "metadata": {
  "kernelspec": {
   "display_name": "Python 3",
   "language": "python",
   "name": "python3"
  },
  "language_info": {
   "codemirror_mode": {
    "name": "ipython",
    "version": 3
   },
   "file_extension": ".py",
   "mimetype": "text/x-python",
   "name": "python",
   "nbconvert_exporter": "python",
   "pygments_lexer": "ipython3",
   "version": "3.7.12"
  },
  "papermill": {
   "default_parameters": {},
   "duration": 25.886698,
   "end_time": "2023-04-03T10:39:32.998268",
   "environment_variables": {},
   "exception": null,
   "input_path": "__notebook__.ipynb",
   "output_path": "__notebook__.ipynb",
   "parameters": {},
   "start_time": "2023-04-03T10:39:07.111570",
   "version": "2.4.0"
  }
 },
 "nbformat": 4,
 "nbformat_minor": 5
}
